{
 "cells": [
  {
   "cell_type": "markdown",
   "metadata": {},
   "source": [
    "<b> UFC Fight Predictions </b>\n",
    "\n",
    "This notebook will mostly be a learning exercise for me.  I will be following the tutorial \"Train a model to predict a future event\" as show in the link https://www.kaggle.com/mdabbert/tutorial-1-train-a-model-to-predict-future-events .  The original author of this work is kaggle user mdabbart\".\n",
    "\n",
    "Once the model has been made, i will plug in data based on the insights i found analysing UFC fight datasets by myself."
   ]
  },
  {
   "cell_type": "code",
   "execution_count": 2,
   "metadata": {},
   "outputs": [],
   "source": [
    "### Setting up the environment\n",
    "import numpy as np\n",
    "import pandas as pd\n",
    "from sklearn.tree import DecisionTreeClassifier\n",
    "\n",
    "###The original code imports something called os. \n",
    "####I dont know what it is but i will carry ony without it\n",
    "#### It then prints the files which will be used."
   ]
  },
  {
   "cell_type": "code",
   "execution_count": 3,
   "metadata": {},
   "outputs": [],
   "source": [
    "##### This sets the process for dealing with a particular error.\n",
    "##### The link below explains why it happens\n",
    "####https://stackoverflow.com/questions/47182183/pandas-chained-assignment-warning-exception-handling\n",
    "\n",
    "pd.options.mode.chained_assignment = None"
   ]
  },
  {
   "cell_type": "code",
   "execution_count": 4,
   "metadata": {},
   "outputs": [],
   "source": [
    "###Loading data\n",
    "\n",
    "df= pd.read_csv(\"C:/Users/dariu/Desktop/Kaggle/UFC/ufc-master-16-09-20.csv\")\n",
    "df_upcoming=pd.read_csv(\"C:/Users/dariu/Desktop/Kaggle/UFC/ufc_fn_waterson_hill.csv\")"
   ]
  },
  {
   "cell_type": "code",
   "execution_count": 5,
   "metadata": {},
   "outputs": [],
   "source": [
    "#### cleaning both together\n",
    "\n",
    "###Creating an empty column\n",
    "df_combined = df_upcoming.append(df)\n",
    "df_combined['label'] = \"\"\n",
    "df_combined[\"label\"]\n",
    "\n",
    "###column called mask marks when winner is red, applies 0 if so. and vica versa\n",
    "mask = df_combined[\"Winner\"]== \"Red\"\n",
    "df_combined[\"label\"][mask] = 0\n",
    "mask = df_combined[\"Winner\"]== \"Blue\"\n",
    "df_combined[\"label\"][mask] = 1\n",
    "\n",
    "###ensures column is numeric\n",
    "df_combined[\"label\"]= pd.to_numeric(df_combined[\"label\"], errors = \"coerce\")\n",
    "\n",
    "###ensures date column is numeric\n",
    "df_combined[\"date\"]=pd.to_datetime(df[\"date\"])\n",
    "\n",
    "\n"
   ]
  },
  {
   "cell_type": "code",
   "execution_count": 6,
   "metadata": {
    "scrolled": true
   },
   "outputs": [
    {
     "name": "stdout",
     "output_type": "stream",
     "text": [
      "12\n",
      "12\n",
      "4355\n",
      "4355\n"
     ]
    }
   ],
   "source": [
    "###Splitting the data frames\n",
    "label_df = df_combined[\"label\"]\n",
    "\n",
    "num_upcoming_fights = len(df_upcoming)\n",
    "df_train = df_combined[num_upcoming_fights:]\n",
    "label_train = label_df[num_upcoming_fights:]\n",
    "\n",
    "df_test = df_combined[:num_upcoming_fights]\n",
    "label_test = df_combined[:num_upcoming_fights]\n",
    "\n",
    "### Making sure the sizes are the same\n",
    "print(len(df_test))\n",
    "print(len(label_test))\n",
    "\n",
    "print(len(df_train))\n",
    "print(len(label_train))"
   ]
  },
  {
   "cell_type": "markdown",
   "metadata": {},
   "source": [
    "The above way of doing it is slow and inefficient.  As shown in my previous notebooks, a lambda function works better. E.g df[\"Winner\"].apply(lambda x: 1 if x == \"Red\" else 0)"
   ]
  },
  {
   "cell_type": "code",
   "execution_count": 7,
   "metadata": {},
   "outputs": [
    {
     "name": "stdout",
     "output_type": "stream",
     "text": [
      "4355\n",
      "4355\n",
      "12\n",
      "12\n",
      "12\n"
     ]
    }
   ],
   "source": [
    "###Picking a model and features\n",
    "\n",
    "my_model = DecisionTreeClassifier(max_depth=5)\n",
    "my_features = [\"win_streak_dif\", \"height_dif\", \"reach_dif\", \"sig_str_dif\", \"avg_td_dif\"]\n",
    "fighters_test = df_test[[\"R_fighter\",\"B_fighter\"]]\n",
    "### .copy is used so that the new one tracks any changes\n",
    "### get dummies is used to edit date into a manageable format\n",
    "\n",
    "df_train_prepped = df_train[my_features].copy()\n",
    "df_test_prepped = df_test[my_features].copy()\n",
    "\n",
    "df_train_prepped = pd.get_dummies(df_train_prepped)\n",
    "df_test_prepped = pd.get_dummies(df_test_prepped)\n",
    "\n",
    "###ensuring sets are dummified the same way\n",
    "df_train_prepped, df_test_prepped = df_train_prepped.align(df_test_prepped, join = \"left\", axis=1)\n",
    "\n",
    "####After the join there may be new blank features.\n",
    "df_test_preppeed = df_test_prepped.fillna(0)\n",
    "\n",
    "#### making sure the dropped rows match up\n",
    "label_train_prepped = label_train[label_train.index.isin(df_train_prepped.index)]\n",
    "label_test_prepped = label_test[label_test.index.isin(df_test_prepped.index)]\n",
    "fighters_test_prepped = fighters_test[fighters_test.index.isin(df_test_prepped.index)]\n",
    "\n",
    "####Checking that lengths are the same\n",
    "print(len(label_train_prepped))\n",
    "print(len(df_train_prepped))\n",
    "print(len(df_test_prepped))\n",
    "print(len(label_test_prepped))\n",
    "print(len(fighters_test_prepped))"
   ]
  },
  {
   "cell_type": "code",
   "execution_count": 8,
   "metadata": {},
   "outputs": [
    {
     "data": {
      "text/plain": [
       "DecisionTreeClassifier(ccp_alpha=0.0, class_weight=None, criterion='gini',\n",
       "                       max_depth=5, max_features=None, max_leaf_nodes=None,\n",
       "                       min_impurity_decrease=0.0, min_impurity_split=None,\n",
       "                       min_samples_leaf=1, min_samples_split=2,\n",
       "                       min_weight_fraction_leaf=0.0, presort='deprecated',\n",
       "                       random_state=None, splitter='best')"
      ]
     },
     "execution_count": 8,
     "metadata": {},
     "output_type": "execute_result"
    }
   ],
   "source": [
    "##Training the model\n",
    "my_model.fit(df_train_prepped, label_train_prepped)"
   ]
  },
  {
   "cell_type": "code",
   "execution_count": 9,
   "metadata": {},
   "outputs": [
    {
     "name": "stdout",
     "output_type": "stream",
     "text": [
      "RED Fighter Michelle Waterson is predicted to win over Angela Hill\n",
      "RED Fighter Ottman Azaitar is predicted to win over Khama Worthy\n",
      "RED Fighter Roxanne Modafferi is predicted to win over Andrea Lee\n",
      "RED Fighter Ed Herman is predicted to win over Mike Rodriguez\n",
      "RED Fighter Billy Quarantillo is predicted to win over Kyle Nelson\n",
      "RED Fighter Julia Avila is predicted to win over Sijara Eubanks\n",
      "RED Fighter Roosevelt Roberts is predicted to win over Kevin Croom\n",
      "RED Fighter Alexandr Romanov is predicted to win over Roque Martinez\n",
      "BLUE fighter Alan Patrick is predicted to win over Bobby Green\n",
      "RED Fighter Brok Weaver is predicted to win over Jalin Turner\n",
      "RED Fighter Bryan Barberena is predicted to win over Anthony Ivy\n",
      "RED Fighter Sabina Mazo is predicted to win over Justine Kish\n"
     ]
    }
   ],
   "source": [
    "###Getting predictions and printing them\n",
    "predictions = my_model.predict(df_test_prepped)\n",
    "fighters_array = fighters_test_prepped.to_numpy()\n",
    "prediction_list = np.array(list(zip(fighters_array, predictions)))\n",
    "for p in prediction_list:\n",
    "    if p[1]== 0.0:\n",
    "        print(f\"RED Fighter {p[0][0]} is predicted to win over {p[0][1]}\")\n",
    "    else: \n",
    "        print (f'BLUE fighter {p[0][1]} is predicted to win over {p[0][0]}')"
   ]
  },
  {
   "cell_type": "code",
   "execution_count": null,
   "metadata": {
    "scrolled": true
   },
   "outputs": [],
   "source": []
  },
  {
   "cell_type": "code",
   "execution_count": null,
   "metadata": {},
   "outputs": [],
   "source": []
  }
 ],
 "metadata": {
  "kernelspec": {
   "display_name": "Python 3",
   "language": "python",
   "name": "python3"
  },
  "language_info": {
   "codemirror_mode": {
    "name": "ipython",
    "version": 3
   },
   "file_extension": ".py",
   "mimetype": "text/x-python",
   "name": "python",
   "nbconvert_exporter": "python",
   "pygments_lexer": "ipython3",
   "version": "3.7.6"
  }
 },
 "nbformat": 4,
 "nbformat_minor": 4
}
